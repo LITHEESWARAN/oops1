{
 "cells": [
  {
   "cell_type": "code",
   "execution_count": 5,
   "id": "3f08861c",
   "metadata": {},
   "outputs": [
    {
     "name": "stdout",
     "output_type": "stream",
     "text": [
      "300\n"
     ]
    }
   ],
   "source": [
    "#Problem 1: Bank Account\n",
    "class BankAccount:\n",
    "    def __init__(self, account_number, holder_name, balance=0):\n",
    "        self.account_number = account_number\n",
    "        self.holder_name = holder_name\n",
    "        self.balance = balance\n",
    "\n",
    "    def deposit(self, amount):\n",
    "        if amount > 0:\n",
    "            self.balance += amount\n",
    "        else:\n",
    "            print(\"Deposit amount must be positive.\")\n",
    "\n",
    "    def withdraw(self, amount):\n",
    "        if amount > 0 and amount <= self.balance:\n",
    "            self.balance -= amount\n",
    "        else:\n",
    "            print(\"Invalid withdrawal amount.\")\n",
    "\n",
    "    def get_balance(self):\n",
    "        return self.balance\n",
    "\n",
    "# Example usage\n",
    "account = BankAccount(\"12345\", \"John Doe\")\n",
    "account.deposit(500)\n",
    "account.withdraw(200)\n",
    "print(account.get_balance())  \n"
   ]
  },
  {
   "cell_type": "code",
   "execution_count": 6,
   "id": "231ad736",
   "metadata": {},
   "outputs": [
    {
     "name": "stdout",
     "output_type": "stream",
     "text": [
      "6000.0\n",
      "ID: E001, Name: Jane Smith, Salary: $60000.00\n"
     ]
    }
   ],
   "source": [
    "#Problem 2: Employee Management\n",
    "class Employee:\n",
    "    def __init__(self, employee_id, name, salary):\n",
    "        self.employee_id = employee_id\n",
    "        self.name = name\n",
    "        self.salary = salary\n",
    "\n",
    "    def calculate_yearly_bonus(self, bonus_percentage):\n",
    "        return self.salary * (bonus_percentage / 100)\n",
    "\n",
    "    def display_details(self):\n",
    "        return f\"ID: {self.employee_id}, Name: {self.name}, Salary: ${self.salary:.2f}\"\n",
    "\n",
    "# Example usage\n",
    "employee = Employee(\"E001\", \"Jane Smith\", 60000)\n",
    "print(employee.calculate_yearly_bonus(10))  # Output: 6000.0\n",
    "print(employee.display_details())  "
   ]
  },
  {
   "cell_type": "code",
   "execution_count": 7,
   "id": "4f0945ea",
   "metadata": {},
   "outputs": [
    {
     "name": "stdout",
     "output_type": "stream",
     "text": [
      "Car1 has been rented.\n",
      "['Car2', 'Bike1']\n"
     ]
    }
   ],
   "source": [
    "#Problem 3: Vehicle Rental\n",
    "class VehicleRental:\n",
    "    def __init__(self):\n",
    "        self.available_vehicles = []\n",
    "\n",
    "    def rent_vehicle(self, vehicle):\n",
    "        if vehicle in self.available_vehicles:\n",
    "            self.available_vehicles.remove(vehicle)\n",
    "            return f\"{vehicle} has been rented.\"\n",
    "        return \"Vehicle not available.\"\n",
    "\n",
    "    def return_vehicle(self, vehicle):\n",
    "        self.available_vehicles.append(vehicle)\n",
    "        return f\"{vehicle} has been returned.\"\n",
    "\n",
    "    def display_available_vehicles(self):\n",
    "        return self.available_vehicles\n",
    "\n",
    "# Example usage\n",
    "rental = VehicleRental()\n",
    "rental.available_vehicles = [\"Car1\", \"Car2\", \"Bike1\"]\n",
    "print(rental.rent_vehicle(\"Car1\")) \n",
    "print(rental.display_available_vehicles()) "
   ]
  },
  {
   "cell_type": "code",
   "execution_count": 8,
   "id": "d09e54ab",
   "metadata": {},
   "outputs": [
    {
     "name": "stdout",
     "output_type": "stream",
     "text": [
      "You borrowed 1984.\n",
      "['The Great Gatsby by F. Scott Fitzgerald']\n"
     ]
    }
   ],
   "source": [
    "#Problem 4: Library Catalog\n",
    "class Book:\n",
    "    def __init__(self, title, author):\n",
    "        self.title = title\n",
    "        self.author = author\n",
    "\n",
    "class Library:\n",
    "    def __init__(self):\n",
    "        self.books = []\n",
    "\n",
    "    def add_book(self, book):\n",
    "        self.books.append(book)\n",
    "\n",
    "    def borrow_book(self, title):\n",
    "        for book in self.books:\n",
    "            if book.title == title:\n",
    "                self.books.remove(book)\n",
    "                return f\"You borrowed {title}.\"\n",
    "        return \"Book not available.\"\n",
    "\n",
    "    def display_books(self):\n",
    "        return [f\"{book.title} by {book.author}\" for book in self.books]\n",
    "\n",
    "# Example usage\n",
    "library = Library()\n",
    "book1 = Book(\"The Great Gatsby\", \"F. Scott Fitzgerald\")\n",
    "book2 = Book(\"1984\", \"George Orwell\")\n",
    "library.add_book(book1)\n",
    "library.add_book(book2)\n",
    "print(library.borrow_book(\"1984\"))  \n",
    "print(library.display_books())  "
   ]
  },
  {
   "cell_type": "code",
   "execution_count": 9,
   "id": "d52ee00c",
   "metadata": {},
   "outputs": [
    {
     "name": "stdout",
     "output_type": "stream",
     "text": [
      "Updated Phone quantity to 15.\n",
      "['Laptop: 10', 'Phone: 15']\n"
     ]
    }
   ],
   "source": [
    "#Problem 5: Product Inventory\n",
    "class Product:\n",
    "    def __init__(self, name, quantity):\n",
    "        self.name = name\n",
    "        self.quantity = quantity\n",
    "\n",
    "class Inventory:\n",
    "    def __init__(self):\n",
    "        self.products = []\n",
    "\n",
    "    def add_product(self, product):\n",
    "        self.products.append(product)\n",
    "\n",
    "    def update_quantity(self, product_name, quantity):\n",
    "        for product in self.products:\n",
    "            if product.name == product_name:\n",
    "                product.quantity = quantity\n",
    "                return f\"Updated {product_name} quantity to {quantity}.\"\n",
    "        return \"Product not found.\"\n",
    "\n",
    "    def display_products(self):\n",
    "        return [f\"{product.name}: {product.quantity}\" for product in self.products]\n",
    "\n",
    "# Example usage\n",
    "inventory = Inventory()\n",
    "product1 = Product(\"Laptop\", 10)\n",
    "product2 = Product(\"Phone\", 20)\n",
    "inventory.add_product(product1)\n",
    "inventory.add_product(product2)\n",
    "print(inventory.update_quantity(\"Phone\", 15)) \n",
    "print(inventory.display_products())  "
   ]
  },
  {
   "cell_type": "code",
   "execution_count": 10,
   "id": "dc35536d",
   "metadata": {},
   "outputs": [
    {
     "name": "stdout",
     "output_type": "stream",
     "text": [
      "50\n",
      "30\n",
      "16\n",
      "16\n"
     ]
    }
   ],
   "source": [
    "#Problem 6: Shape Calculation\n",
    "class Shape:\n",
    "    def __init__(self, length, width=None):\n",
    "        self.length = length\n",
    "        self.width = width\n",
    "\n",
    "    def calculate_area(self):\n",
    "        if self.width:\n",
    "            return self.length * self.width\n",
    "        return self.length ** 2  # Assuming square if width is None\n",
    "\n",
    "    def calculate_perimeter(self):\n",
    "        if self.width:\n",
    "            return 2 * (self.length + self.width)\n",
    "        return 4 * self.length  # Assuming square if width is None\n",
    "\n",
    "# Example usage\n",
    "shape1 = Shape(5, 10)  # Rectangle\n",
    "shape2 = Shape(4)      # Square\n",
    "print(shape1.calculate_area())  \n",
    "print(shape1.calculate_perimeter())  \n",
    "print(shape2.calculate_area()) \n",
    "print(shape2.calculate_perimeter()) \n"
   ]
  },
  {
   "cell_type": "code",
   "execution_count": 11,
   "id": "02419d16",
   "metadata": {},
   "outputs": [
    {
     "name": "stdout",
     "output_type": "stream",
     "text": [
      "84.33333333333333\n",
      "ID: S001, Name: Alice, Average Grade: 84.33\n"
     ]
    }
   ],
   "source": [
    "#Problem 7: Student Management\n",
    "class Student:\n",
    "    def __init__(self, student_id, name, grades):\n",
    "        self.student_id = student_id\n",
    "        self.name = name\n",
    "        self.grades = grades\n",
    "\n",
    "    def calculate_average_grade(self):\n",
    "        return sum(self.grades) / len(self.grades)\n",
    "\n",
    "    def display_details(self):\n",
    "        return f\"ID: {self.student_id}, Name: {self.name}, Average Grade: {self.calculate_average_grade():.2f}\"\n",
    "\n",
    "# Example usage\n",
    "student = Student(\"S001\", \"Alice\", [85, 90, 78])\n",
    "print(student.calculate_average_grade()) \n",
    "print(student.display_details())  "
   ]
  },
  {
   "cell_type": "code",
   "execution_count": 12,
   "id": "781004a3",
   "metadata": {},
   "outputs": [
    {
     "name": "stdout",
     "output_type": "stream",
     "text": [
      "Email sent from john@example.com to jane@example.com with subject: Meeting Request\n",
      "Sender: john@example.com, Recipient: jane@example.com, Subject: Meeting Request\n"
     ]
    }
   ],
   "source": [
    "#Problem 8: Email Management\n",
    "class Email:\n",
    "    def __init__(self, sender, recipient, subject):\n",
    "        self.sender = sender\n",
    "        self.recipient = recipient\n",
    "        self.subject = subject\n",
    "\n",
    "    def send_email(self):\n",
    "        return f\"Email sent from {self.sender} to {self.recipient} with subject: {self.subject}\"\n",
    "\n",
    "    def display_details(self):\n",
    "        return f\"Sender: {self.sender}, Recipient: {self.recipient}, Subject: {self.subject}\"\n",
    "\n",
    "# Example usage\n",
    "email = Email(\"john@example.com\", \"jane@example.com\", \"Meeting Request\")\n",
    "print(email.send_email())  \n",
    "print(email.display_details()) "
   ]
  },
  {
   "cell_type": "code",
   "execution_count": 13,
   "id": "57d07c19",
   "metadata": {},
   "outputs": [
    {
     "name": "stdout",
     "output_type": "stream",
     "text": [
      "['Just had a great lunch!', 'Working on a new project.']\n",
      "['Just had a great lunch!']\n"
     ]
    }
   ],
   "source": [
    "#Problem 9: Social Media Profile\n",
    "class SocialMediaProfile:\n",
    "    def __init__(self, username):\n",
    "        self.username = username\n",
    "        self.posts = []\n",
    "\n",
    "    def add_post(self, post):\n",
    "        self.posts.append(post)\n",
    "\n",
    "    def display_posts(self):\n",
    "        return self.posts\n",
    "\n",
    "    def search_posts(self, keyword):\n",
    "        return [post for post in self.posts if keyword in post]\n",
    "\n",
    "# Example usage\n",
    "profile = SocialMediaProfile(\"user123\")\n",
    "profile.add_post(\"Just had a great lunch!\")\n",
    "profile.add_post(\"Working on a new project.\")\n",
    "print(profile.display_posts()) \n",
    "print(profile.search_posts(\"lunch\"))"
   ]
  },
  {
   "cell_type": "code",
   "execution_count": 14,
   "id": "b15b9b10",
   "metadata": {},
   "outputs": [
    {
     "name": "stdout",
     "output_type": "stream",
     "text": [
      "Task 'Buy groceries' marked as completed.\n",
      "[{'task': 'Write report', 'due_date': '2024-09-07', 'completed': False}]\n"
     ]
    }
   ],
   "source": [
    "#Problem 10: ToDo List\n",
    "class ToDoList:\n",
    "    def __init__(self):\n",
    "        self.tasks = []\n",
    "\n",
    "    def add_task(self, task, due_date):\n",
    "        self.tasks.append({'task': task, 'due_date': due_date, 'completed': False})\n",
    "\n",
    "    def mark_task_completed(self, task):\n",
    "        for t in self.tasks:\n",
    "            if t['task'] == task:\n",
    "                t['completed'] = True\n",
    "                return f\"Task '{task}' marked as completed.\"\n",
    "        return \"Task not found.\"\n",
    "\n",
    "    def display_pending_tasks(self):\n",
    "        return [t for t in self.tasks if not t['completed']]\n",
    "\n",
    "# Example usage\n",
    "todo_list = ToDoList()\n",
    "todo_list.add_task(\"Buy groceries\", \"2024-09-05\")\n",
    "todo_list.add_task(\"Write report\", \"2024-09-07\")\n",
    "print(todo_list.mark_task_completed(\"Buy groceries\")) \n",
    "print(todo_list.display_pending_tasks())"
   ]
  },
  {
   "cell_type": "code",
   "execution_count": null,
   "id": "57d84f97",
   "metadata": {},
   "outputs": [],
   "source": []
  }
 ],
 "metadata": {
  "kernelspec": {
   "display_name": "Python 3 (ipykernel)",
   "language": "python",
   "name": "python3"
  },
  "language_info": {
   "codemirror_mode": {
    "name": "ipython",
    "version": 3
   },
   "file_extension": ".py",
   "mimetype": "text/x-python",
   "name": "python",
   "nbconvert_exporter": "python",
   "pygments_lexer": "ipython3",
   "version": "3.9.12"
  }
 },
 "nbformat": 4,
 "nbformat_minor": 5
}
